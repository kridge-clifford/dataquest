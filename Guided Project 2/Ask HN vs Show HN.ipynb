{
 "cells": [
  {
   "cell_type": "markdown",
   "metadata": {
    "collapsed": true
   },
   "source": [
    "# Ask HN vs Show HN - Analyzing Hacker News Posts \n",
    "\n",
    "Hacker News is a News Site started by the startup incubator [Y Combinator](https://www.ycombinator.com/). It site a site where you can share a story or ask(known as \"posts\") are voted and commented upon, similar to reddit.\n",
    "\n",
    "Our goal for this project is to determine the following:\n",
    "- Do `Ask HN` vs `Show HN` receive more comments on average?\n",
    "- Do posts created at a certain time receive more comments on average?\n",
    "\n",
    "## Opening and Reading the data set\n",
    "\n",
    "We will use this [data set](https://www.kaggle.com/hacker-news/hacker-news-posts), has approximately 20,000 rows.\n",
    "\n",
    "Let's start by exploring our data set. First we will print the headers and first five rows."
   ]
  },
  {
   "cell_type": "code",
   "execution_count": 1,
   "metadata": {},
   "outputs": [
    {
     "name": "stdout",
     "output_type": "stream",
     "text": [
      "['id', 'title', 'url', 'num_points', 'num_comments', 'author', 'created_at'] \n",
      "\n",
      "['12224879', 'Interactive Dynamic Video', 'http://www.interactivedynamicvideo.com/', '386', '52', 'ne0phyte', '8/4/2016 11:52'] \n",
      "\n",
      "['10975351', 'How to Use Open Source and Shut the Fuck Up at the Same Time', 'http://hueniverse.com/2016/01/26/how-to-use-open-source-and-shut-the-fuck-up-at-the-same-time/', '39', '10', 'josep2', '1/26/2016 19:30'] \n",
      "\n",
      "['11964716', \"Florida DJs May Face Felony for April Fools' Water Joke\", 'http://www.thewire.com/entertainment/2013/04/florida-djs-april-fools-water-joke/63798/', '2', '1', 'vezycash', '6/23/2016 22:20'] \n",
      "\n",
      "['11919867', 'Technology ventures: From Idea to Enterprise', 'https://www.amazon.com/Technology-Ventures-Enterprise-Thomas-Byers/dp/0073523429', '3', '1', 'hswarna', '6/17/2016 0:01'] \n",
      "\n",
      "['10301696', 'Note by Note: The Making of Steinway L1037 (2007)', 'http://www.nytimes.com/2007/11/07/movies/07stein.html?_r=0', '8', '2', 'walterbell', '9/30/2015 4:12'] \n",
      "\n"
     ]
    }
   ],
   "source": [
    "opened_file = open(\"hacker_news.csv\") \n",
    "from csv import reader\n",
    "read_file = reader(opened_file)\n",
    "hn = list(read_file)\n",
    "\n",
    "headers = hn[0] # assigning the first row which is the headers to \"headers\" variable\n",
    "hn = hn[1:]\n",
    "print(headers, '\\n')\n",
    "\n",
    "for row in hn[:5]:\n",
    "    print(row, '\\n')"
   ]
  },
  {
   "cell_type": "markdown",
   "metadata": {},
   "source": [
    "Below are descriptions of the columns:\n",
    "- `id`: The unique identifier from Hacker News for the post\n",
    "- `title`: The title of the post\n",
    "- `url`: The URL that the posts links to, if it the post has a URL\n",
    "- `num_points`: The number of points the post acquired, calculated as the total number of upvotes minus the total number of downvotes\n",
    "- `num_comments`: The number of comments that were made on the post\n",
    "- `author`: The username of the person who submitted the post\n",
    "- `created_at`: The date and time at which the post was submitted\n",
    "\n",
    "## Data Cleaning\n",
    "\n",
    "\n",
    "Let's start by spliting the data to three parts:\n",
    "- A list only contains posts starts with `Ask HN`\n",
    "- A list only contains posts starts with `Show HN`\n",
    "- A list only contains other posts not starting either `Ask HN` or `Show HN`\n"
   ]
  },
  {
   "cell_type": "code",
   "execution_count": 2,
   "metadata": {},
   "outputs": [
    {
     "name": "stdout",
     "output_type": "stream",
     "text": [
      "Ask posts length: 1744\n",
      "Show posts length: 1162\n",
      "Other posts length: 17194\n"
     ]
    }
   ],
   "source": [
    "ask_posts = []\n",
    "show_posts = []\n",
    "other_posts = []\n",
    "\n",
    "for row in hn:\n",
    "    title = row[1]\n",
    "    if title.lower().startswith(\"ask hn\"):\n",
    "        ask_posts.append(row)\n",
    "    elif title.lower().startswith(\"show hn\"):\n",
    "        show_posts.append(row)\n",
    "    else:\n",
    "        other_posts.append(row)\n",
    "\n",
    "print(\"Ask posts length:\", len(ask_posts))\n",
    "print(\"Show posts length:\", len(show_posts))\n",
    "print(\"Other posts length:\", len(other_posts))"
   ]
  },
  {
   "cell_type": "markdown",
   "metadata": {},
   "source": [
    "For our analysis we are only interested in post starting with `Ask HN` and `Show HN`.\n",
    "\n",
    "## Data Analyzing\n",
    "\n",
    "Let's start by computing the average of both `Ask HN` and `Show HN`."
   ]
  },
  {
   "cell_type": "code",
   "execution_count": 3,
   "metadata": {},
   "outputs": [
    {
     "name": "stdout",
     "output_type": "stream",
     "text": [
      "Overall total of Ask HN comments: 14.04\n"
     ]
    }
   ],
   "source": [
    "total_ask_comments = 0\n",
    "\n",
    "for post in ask_posts:\n",
    "    comments = int(post[4])\n",
    "    total_ask_comments += comments\n",
    "    \n",
    "avg_ask_comments = total_ask_comments / len(ask_posts)\n",
    "print(\"Overall total of Ask HN comments: {:.2f}\".format(avg_ask_comments))"
   ]
  },
  {
   "cell_type": "code",
   "execution_count": 4,
   "metadata": {},
   "outputs": [
    {
     "name": "stdout",
     "output_type": "stream",
     "text": [
      "Overall total of Show HN comments: 6.87\n"
     ]
    }
   ],
   "source": [
    "total_show_comments = 0\n",
    "\n",
    "for post in show_posts:\n",
    "    comments = int(post[4])\n",
    "    total_show_comments += comments\n",
    "    \n",
    "avg_show_comments = total_show_comments / len(ask_posts)\n",
    "print(\"Overall total of Show HN comments: {:.2f}\".format(avg_show_comments))"
   ]
  },
  {
   "cell_type": "markdown",
   "metadata": {},
   "source": [
    "We find here that `Ask HN` posts with 14.04% receives more comments on average than `Show HN` posts with 6.87%.\n",
    "\n",
    "With that, we will be using `Ask HN` to determine the particular hour that attracts more comments."
   ]
  },
  {
   "cell_type": "code",
   "execution_count": 5,
   "metadata": {},
   "outputs": [
    {
     "name": "stdout",
     "output_type": "stream",
     "text": [
      "Hour  | # of post\n",
      "03 PM |  116\n",
      "07 PM |  110\n",
      "09 PM |  109\n",
      "06 PM |  109\n",
      "04 PM |  108\n",
      "02 PM |  107\n",
      "05 PM |  100\n",
      "01 PM |  85\n",
      "08 PM |  80\n",
      "12 PM |  73\n",
      "10 PM |  71\n",
      "11 PM |  68\n",
      "01 AM |  60\n",
      "10 AM |  59\n",
      "02 AM |  58\n",
      "11 AM |  58\n",
      "12 AM |  55\n",
      "03 AM |  54\n",
      "08 AM |  48\n",
      "04 AM |  47\n",
      "05 AM |  46\n",
      "09 AM |  45\n",
      "06 AM |  44\n",
      "07 AM |  34\n"
     ]
    }
   ],
   "source": [
    "import datetime as dt\n",
    "\n",
    "result_list = []  # a list that will contain date of post created and # of comments\n",
    "for post in ask_posts:\n",
    "    created_at = post[6]\n",
    "    comments = post[4]\n",
    "    result_list.append([created_at, comments])\n",
    "    \n",
    "counts_by_hour = {}  # a list that will contain number of post per hour\n",
    "comments_by_hour = {}  # a list that will contain number comments per hour\n",
    "\n",
    "for result in result_list:\n",
    "    hour = dt.datetime.strptime(result[0], \"%m/%d/%Y %H:%M\")\n",
    "    hour = hour.strftime(\"%I %p\")  # Converting our hour to 12 hour format and Locale’s equivalent of either AM or PM\n",
    "    comments = int(result[1])\n",
    "    \n",
    "    if not hour in counts_by_hour:\n",
    "        counts_by_hour[hour] = 1\n",
    "        comments_by_hour[hour] = comments\n",
    "    else:\n",
    "        counts_by_hour[hour] += 1\n",
    "        comments_by_hour[hour] += comments\n",
    "\n",
    "# To sort out the values in counts_by_hour by descending order  \n",
    "counts_by_hour = {k: v for k, v in sorted(counts_by_hour.items(), key=lambda item: item[1],  reverse = True)}\n",
    "\n",
    "# To sort out the values in comments_by_hour by descending order \n",
    "comments_by_hour = {k: v for k, v in sorted(comments_by_hour.items(), key=lambda item: item[1],  reverse = True)}\n",
    "\n",
    "print(\"Hour  | # of post\")\n",
    "for hour, posts_len in counts_by_hour.items():\n",
    "    print(hour, \"| \", posts_len)"
   ]
  },
  {
   "cell_type": "markdown",
   "metadata": {},
   "source": [
    "We see from the result that in 3pm has highest with 116 post followed by 7pm with 110 posts, 9pm with 109 posts and so on.\n",
    "\n",
    "Now, let's check number of comments per hour."
   ]
  },
  {
   "cell_type": "code",
   "execution_count": 6,
   "metadata": {},
   "outputs": [
    {
     "name": "stdout",
     "output_type": "stream",
     "text": [
      "Hour  | # of Comments\n",
      "03 PM |  4477\n",
      "04 PM |  1814\n",
      "09 PM |  1745\n",
      "08 PM |  1722\n",
      "06 PM |  1439\n",
      "02 PM |  1416\n",
      "02 AM |  1381\n",
      "01 PM |  1253\n",
      "07 PM |  1188\n",
      "05 PM |  1146\n",
      "10 AM |  793\n",
      "12 PM |  687\n",
      "01 AM |  683\n",
      "11 AM |  641\n",
      "11 PM |  543\n",
      "08 AM |  492\n",
      "10 PM |  479\n",
      "05 AM |  464\n",
      "12 AM |  447\n",
      "03 AM |  421\n",
      "06 AM |  397\n",
      "04 AM |  337\n",
      "07 AM |  267\n",
      "09 AM |  251\n"
     ]
    }
   ],
   "source": [
    "print(\"Hour  | # of Comments\")\n",
    "for hour, comments_len in comments_by_hour.items():\n",
    "    print(hour, \"| \", comments_len)"
   ]
  },
  {
   "cell_type": "markdown",
   "metadata": {},
   "source": [
    "We see the almost the same result here, being 3pm has most comments followed by 4pm, 9pm and so on."
   ]
  },
  {
   "cell_type": "code",
   "execution_count": 7,
   "metadata": {},
   "outputs": [
    {
     "name": "stdout",
     "output_type": "stream",
     "text": [
      "Top 5 Hours for Ask Posts Comments\n",
      "03 PM: 38.59 average comments per post.\n",
      "02 AM: 23.81 average comments per post.\n",
      "08 PM: 21.52 average comments per post.\n",
      "04 PM: 16.80 average comments per post.\n",
      "09 PM: 16.01 average comments per post.\n"
     ]
    }
   ],
   "source": [
    "avg_by_hour = []  # a list that will contain the average of comments per hour\n",
    "for hour in comments_by_hour:\n",
    "    avg_by_hour.append([hour,comments_by_hour[hour] / counts_by_hour[hour]])\n",
    "\n",
    "# To sort out the values in avg_by_hour by descending order  \n",
    "avg_by_hour = [[k, v] for k, v in sorted(avg_by_hour, key=lambda item: item[1],  reverse = True)]\n",
    "\n",
    "print(\"Top 5 Hours for Ask Posts Comments\")\n",
    "for row in avg_by_hour[:5]:\n",
    "    template = \"{}: {:.2f} average comments per post.\"\n",
    "    hour = dt.datetime.strptime(row[0], \"%I %p\")\n",
    "    hour = hour.strftime(\"%I %p\")\n",
    "    average = row[1]\n",
    "    print(template.format(hour, average))"
   ]
  },
  {
   "cell_type": "markdown",
   "metadata": {},
   "source": [
    "## Conclusion\n",
    "\n",
    "From our analysis, we conclude that having `Ask HN` to our post will attract more comments than `Show HN`. Based from our top 5 average comments per hour, comments will appear mostly during 3pm, 2am, 8pm and so on."
   ]
  }
 ],
 "metadata": {
  "kernelspec": {
   "display_name": "Python 3",
   "language": "python",
   "name": "python3"
  },
  "language_info": {
   "codemirror_mode": {
    "name": "ipython",
    "version": 3
   },
   "file_extension": ".py",
   "mimetype": "text/x-python",
   "name": "python",
   "nbconvert_exporter": "python",
   "pygments_lexer": "ipython3",
   "version": "3.8.0"
  }
 },
 "nbformat": 4,
 "nbformat_minor": 2
}
