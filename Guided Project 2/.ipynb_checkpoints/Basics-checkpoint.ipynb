{
 "cells": [
  {
   "cell_type": "markdown",
   "metadata": {
    "collapsed": true
   },
   "source": [
    "# Ask hacker news vs Show Hacker news"
   ]
  },
  {
   "cell_type": "code",
   "execution_count": 1,
   "metadata": {
    "collapsed": false
   },
   "outputs": [
    {
     "name": "stdout",
     "output_type": "stream",
     "text": [
      "['id', 'title', 'url', 'num_points', 'num_comments', 'author', 'created_at']\n",
      "[['12224879', 'Interactive Dynamic Video', 'http://www.interactivedynamicvideo.com/', '386', '52', 'ne0phyte', '8/4/2016 11:52'], ['10975351', 'How to Use Open Source and Shut the Fuck Up at the Same Time', 'http://hueniverse.com/2016/01/26/how-to-use-open-source-and-shut-the-fuck-up-at-the-same-time/', '39', '10', 'josep2', '1/26/2016 19:30'], ['11964716', \"Florida DJs May Face Felony for April Fools' Water Joke\", 'http://www.thewire.com/entertainment/2013/04/florida-djs-april-fools-water-joke/63798/', '2', '1', 'vezycash', '6/23/2016 22:20'], ['11919867', 'Technology ventures: From Idea to Enterprise', 'https://www.amazon.com/Technology-Ventures-Enterprise-Thomas-Byers/dp/0073523429', '3', '1', 'hswarna', '6/17/2016 0:01'], ['10301696', 'Note by Note: The Making of Steinway L1037 (2007)', 'http://www.nytimes.com/2007/11/07/movies/07stein.html?_r=0', '8', '2', 'walterbell', '9/30/2015 4:12']]\n"
     ]
    }
   ],
   "source": [
    "opened_file = open(\"hacker_news.csv\")\n",
    "from csv import reader\n",
    "read_file = reader(opened_file)\n",
    "hn = list(read_file)\n",
    "\n",
    "headers = hn[0]\n",
    "hn = hn[1:]\n",
    "print(headers)\n",
    "print(hn[:5])"
   ]
  },
  {
   "cell_type": "code",
   "execution_count": 8,
   "metadata": {
    "collapsed": false
   },
   "outputs": [
    {
     "name": "stdout",
     "output_type": "stream",
     "text": [
      "Ask posts length: 1744\n",
      "Show posts length: 1162\n",
      "Other posts length: 17194\n"
     ]
    }
   ],
   "source": [
    "ask_posts = []\n",
    "show_posts = []\n",
    "other_posts = []\n",
    "\n",
    "for row in hn:\n",
    "    title = row[1]\n",
    "    if title.lower().startswith(\"ask hn\"):\n",
    "        ask_posts.append(row)\n",
    "    elif title.lower().startswith(\"show hn\"):\n",
    "        show_posts.append(row)\n",
    "    else:\n",
    "        other_posts.append(row)\n",
    "\n",
    "print(\"Ask posts length:\", len(ask_posts))\n",
    "print(\"Show posts length:\", len(show_posts))\n",
    "print(\"Other posts length:\", len(other_posts))"
   ]
  },
  {
   "cell_type": "code",
   "execution_count": 9,
   "metadata": {
    "collapsed": false
   },
   "outputs": [
    {
     "name": "stdout",
     "output_type": "stream",
     "text": [
      "Overall total of Ask HN comments: 14\n"
     ]
    }
   ],
   "source": [
    "total_ask_comments = 0\n",
    "\n",
    "for post in ask_posts:\n",
    "    comments = int(post[4])\n",
    "    total_ask_comments += comments\n",
    "    \n",
    "avg_ask_comments = total_ask_comments // len(ask_posts)\n",
    "print(\"Overall total of Ask HN comments:\", avg_ask_comments)"
   ]
  },
  {
   "cell_type": "code",
   "execution_count": 10,
   "metadata": {
    "collapsed": false
   },
   "outputs": [
    {
     "name": "stdout",
     "output_type": "stream",
     "text": [
      "Overall total of Show HN comments: 6\n"
     ]
    }
   ],
   "source": [
    "total_show_comments = 0\n",
    "\n",
    "for post in show_posts:\n",
    "    comments = int(post[4])\n",
    "    total_show_comments += comments\n",
    "    \n",
    "avg_show_comments = total_show_comments // len(ask_posts)\n",
    "print(\"Overall total of Show HN comments:\", avg_show_comments)"
   ]
  },
  {
   "cell_type": "markdown",
   "metadata": {},
   "source": [
    "We find here that ASK HN posts receives more comments on average than SHOW HN posts."
   ]
  },
  {
   "cell_type": "code",
   "execution_count": 26,
   "metadata": {
    "collapsed": false
   },
   "outputs": [
    {
     "name": "stdout",
     "output_type": "stream",
     "text": [
      "{'22': 71, '08': 48, '00': 55, '02': 58, '05': 46, '06': 44, '11': 58, '01': 60, '18': 109, '14': 107, '20': 80, '13': 85, '23': 68, '12': 73, '10': 59, '04': 47, '15': 116, '17': 100, '19': 110, '07': 34, '21': 109, '16': 108, '09': 45, '03': 54}\n",
      "{'22': 479, '08': 492, '00': 447, '02': 1381, '05': 464, '06': 397, '11': 641, '01': 683, '18': 1439, '14': 1416, '20': 1722, '13': 1253, '23': 543, '12': 687, '10': 793, '04': 337, '15': 4477, '17': 1146, '19': 1188, '07': 267, '21': 1745, '16': 1814, '09': 251, '03': 421}\n"
     ]
    }
   ],
   "source": [
    "import datetime as dt\n",
    "result_list = []\n",
    "for post in ask_posts:\n",
    "    created_at = post[6]\n",
    "    comments = post[4]\n",
    "    result_list.append([created_at, comments])\n",
    "    \n",
    "counts_by_hour = {}\n",
    "comments_by_hour = {}\n",
    "\n",
    "for result in result_list:\n",
    "    hour = dt.datetime.strptime(result[0], \"%m/%d/%Y %H:%M\")\n",
    "    hour = hour.strftime(\"%H\")\n",
    "    comments = int(result[1])\n",
    "    \n",
    "    if not hour in counts_by_hour:\n",
    "        counts_by_hour[hour] = 1\n",
    "        comments_by_hour[hour] = comments\n",
    "    else:\n",
    "        counts_by_hour[hour] += 1\n",
    "        comments_by_hour[hour] += comments\n",
    "\n",
    "print(counts_by_hour)\n",
    "print(comments_by_hour)"
   ]
  },
  {
   "cell_type": "code",
   "execution_count": 34,
   "metadata": {
    "collapsed": false
   },
   "outputs": [
    {
     "name": "stdout",
     "output_type": "stream",
     "text": [
      "[['22', 6.746478873239437], ['08', 10.25], ['00', 8.127272727272727], ['02', 23.810344827586206], ['05', 10.08695652173913], ['06', 9.022727272727273], ['11', 11.051724137931034], ['01', 11.383333333333333], ['18', 13.20183486238532], ['14', 13.233644859813085], ['20', 21.525], ['13', 14.741176470588234], ['23', 7.985294117647059], ['12', 9.41095890410959], ['10', 13.440677966101696], ['04', 7.170212765957447], ['15', 38.5948275862069], ['17', 11.46], ['19', 10.8], ['07', 7.852941176470588], ['21', 16.009174311926607], ['16', 16.796296296296298], ['09', 5.5777777777777775], ['03', 7.796296296296297]]\n"
     ]
    }
   ],
   "source": [
    "avg_by_hour = []\n",
    "for hour in comments_by_hour:\n",
    "    avg_by_hour.append([hour,comments_by_hour[hour] / counts_by_hour[hour]])\n",
    "print(avg_by_hour)"
   ]
  },
  {
   "cell_type": "code",
   "execution_count": 36,
   "metadata": {
    "collapsed": false
   },
   "outputs": [
    {
     "name": "stdout",
     "output_type": "stream",
     "text": [
      "[[6.746478873239437, '22'], [10.25, '08'], [8.127272727272727, '00'], [23.810344827586206, '02'], [10.08695652173913, '05'], [9.022727272727273, '06'], [11.051724137931034, '11'], [11.383333333333333, '01'], [13.20183486238532, '18'], [13.233644859813085, '14'], [21.525, '20'], [14.741176470588234, '13'], [7.985294117647059, '23'], [9.41095890410959, '12'], [13.440677966101696, '10'], [7.170212765957447, '04'], [38.5948275862069, '15'], [11.46, '17'], [10.8, '19'], [7.852941176470588, '07'], [16.009174311926607, '21'], [16.796296296296298, '16'], [5.5777777777777775, '09'], [7.796296296296297, '03']]\n"
     ]
    }
   ],
   "source": [
    "swap_avg_by_hour = []\n",
    "for row in avg_by_hour:\n",
    "    swap_avg_by_hour.append([row[1], row[0]])\n",
    "print(swap_avg_by_hour)"
   ]
  },
  {
   "cell_type": "code",
   "execution_count": 38,
   "metadata": {
    "collapsed": false
   },
   "outputs": [
    {
     "name": "stdout",
     "output_type": "stream",
     "text": [
      "Top 5 Hours for Ask Posts Comments\n",
      "15:00: 38.59 average comments per post.\n",
      "02:00: 23.81 average comments per post.\n",
      "20:00: 21.52 average comments per post.\n",
      "16:00: 16.80 average comments per post.\n",
      "21:00: 16.01 average comments per post.\n"
     ]
    }
   ],
   "source": [
    "sorted_swap = sorted(swap_avg_by_hour, reverse=True)\n",
    "print(\"Top 5 Hours for Ask Posts Comments\")\n",
    "for row in sorted_swap[:5]:\n",
    "    template = \"{}: {:.2f} average comments per post.\"\n",
    "    hour = dt.datetime.strptime(row[1], \"%H\")\n",
    "    hour = hour.strftime(\"%H:%M\")\n",
    "    average = row[0]\n",
    "    print(template.format(hour, average))\n",
    "    "
   ]
  }
 ],
 "metadata": {
  "kernelspec": {
   "display_name": "Python 3",
   "language": "python",
   "name": "python3"
  },
  "language_info": {
   "codemirror_mode": {
    "name": "ipython",
    "version": 3
   },
   "file_extension": ".py",
   "mimetype": "text/x-python",
   "name": "python",
   "nbconvert_exporter": "python",
   "pygments_lexer": "ipython3",
   "version": "3.4.3"
  }
 },
 "nbformat": 4,
 "nbformat_minor": 2
}
